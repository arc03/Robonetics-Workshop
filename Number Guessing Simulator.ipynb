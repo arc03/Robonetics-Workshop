{
 "cells": [
  {
   "cell_type": "code",
   "execution_count": 1,
   "metadata": {},
   "outputs": [],
   "source": [
    "import random\n",
    "import math"
   ]
  },
  {
   "cell_type": "code",
   "execution_count": 2,
   "metadata": {},
   "outputs": [
    {
     "name": "stdout",
     "output_type": "stream",
     "text": [
      "Enter lower bound 1\n",
      "Enter upper bound 10\n",
      "Chance :- 1\n",
      "Enter num 4\n",
      "Try again!!\n",
      "Chance :- 2\n",
      "Enter num 3\n",
      "Try again!!\n",
      "Chance :- 3\n",
      "Enter num 7\n",
      "Try again!!\n",
      "The answer is  1\n",
      "Enter 1 if you want to try your luck again 1\n",
      "Enter lower bound 5\n",
      "Enter upper bound 10\n",
      "Chance :- 1\n",
      "Enter num 6\n",
      "Congratulations !! You Guessed it correct\n",
      "Enter 1 if you want to try your luck again 0\n"
     ]
    }
   ],
   "source": [
    "flag=1\n",
    "while(flag==1):\n",
    "    l=int(input(\"Enter lower bound \"))\n",
    "    u=int(input(\"Enter upper bound \"))\n",
    "    x=random.randint(l,u)\n",
    "    chances=round(math.log(u-l+1,2))\n",
    "    ctr=0\n",
    "    while(ctr<chances):\n",
    "        print(\"Chance :-\",ctr+1)\n",
    "        num=int(input(\"Enter num \"))\n",
    "        if(num==x):\n",
    "            print(\"Congratulations !! You Guessed it correct\")\n",
    "            break\n",
    "        else:\n",
    "            print(\"Try again!!\")\n",
    "        ctr+=1\n",
    "    if(ctr>=chances):\n",
    "        print(\"The answer is \",x)\n",
    "    flag=int(input(\"Enter 1 if you want to try your luck again \"))\n"
   ]
  },
  {
   "cell_type": "code",
   "execution_count": null,
   "metadata": {},
   "outputs": [],
   "source": []
  }
 ],
 "metadata": {
  "kernelspec": {
   "display_name": "Python 3",
   "language": "python",
   "name": "python3"
  },
  "language_info": {
   "codemirror_mode": {
    "name": "ipython",
    "version": 3
   },
   "file_extension": ".py",
   "mimetype": "text/x-python",
   "name": "python",
   "nbconvert_exporter": "python",
   "pygments_lexer": "ipython3",
   "version": "3.7.6"
  }
 },
 "nbformat": 4,
 "nbformat_minor": 4
}
