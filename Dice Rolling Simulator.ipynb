{
 "cells": [
  {
   "cell_type": "code",
   "execution_count": 1,
   "metadata": {},
   "outputs": [],
   "source": [
    "import random"
   ]
  },
  {
   "cell_type": "code",
   "execution_count": 5,
   "metadata": {},
   "outputs": [
    {
     "name": "stdout",
     "output_type": "stream",
     "text": [
      "Number Generated  5\n",
      "[-----]\n",
      "[ O O ]\n",
      "[  O  ]\n",
      "[ O O ]\n",
      "[-----]\n",
      "Enter 1 to continue playing 1\n",
      "Number Generated  5\n",
      "[-----]\n",
      "[ O O ]\n",
      "[  O  ]\n",
      "[ O O ]\n",
      "[-----]\n",
      "Enter 1 to continue playing 1\n",
      "Number Generated  1\n",
      "[-----]\n",
      "[     ]\n",
      "[  O  ]\n",
      "[     ]\n",
      "[-----]\n",
      "Enter 1 to continue playing 0\n"
     ]
    }
   ],
   "source": [
    "flag=1\n",
    "while(flag==1):\n",
    "    x=random.randint(1,6)\n",
    "    print(\"Number Generated \",x)\n",
    "    if(x==1):\n",
    "        print(\"[-----]\")\n",
    "        print(\"[     ]\")\n",
    "        print(\"[  O  ]\")\n",
    "        print(\"[     ]\")\n",
    "        print(\"[-----]\")\n",
    "    elif(x==2):\n",
    "        print(\"[-----]\")\n",
    "        print(\"[ O   ]\")\n",
    "        print(\"[     ]\")\n",
    "        print(\"[   O ]\")\n",
    "        print(\"[-----]\")\n",
    "    elif(x==3):\n",
    "        print(\"[-----]\")\n",
    "        print(\"[     ]\")\n",
    "        print(\"[O O O]\")\n",
    "        print(\"[     ]\")\n",
    "        print(\"[-----]\")\n",
    "    elif(x==4):\n",
    "        print(\"[-----]\")\n",
    "        print(\"[ O O ]\")\n",
    "        print(\"[     ]\")\n",
    "        print(\"[ O O ]\")\n",
    "        print(\"[-----]\")\n",
    "    elif(x==5):\n",
    "        print(\"[-----]\")\n",
    "        print(\"[ O O ]\")\n",
    "        print(\"[  O  ]\")\n",
    "        print(\"[ O O ]\")\n",
    "        print(\"[-----]\")\n",
    "    elif(x==6):\n",
    "        print(\"[-----]\")\n",
    "        print(\"[O O O]\")\n",
    "        print(\"[     ]\")\n",
    "        print(\"[O O O]\")\n",
    "        print(\"[-----]\")\n",
    "    else:\n",
    "        print(\"None\")\n",
    "    flag=int(input(\"Enter 1 to continue playing \"))\n"
   ]
  },
  {
   "cell_type": "code",
   "execution_count": null,
   "metadata": {},
   "outputs": [],
   "source": []
  }
 ],
 "metadata": {
  "kernelspec": {
   "display_name": "Python 3",
   "language": "python",
   "name": "python3"
  },
  "language_info": {
   "codemirror_mode": {
    "name": "ipython",
    "version": 3
   },
   "file_extension": ".py",
   "mimetype": "text/x-python",
   "name": "python",
   "nbconvert_exporter": "python",
   "pygments_lexer": "ipython3",
   "version": "3.7.6"
  }
 },
 "nbformat": 4,
 "nbformat_minor": 4
}
