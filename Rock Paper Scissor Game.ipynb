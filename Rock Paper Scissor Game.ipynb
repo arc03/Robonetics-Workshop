{
 "cells": [
  {
   "cell_type": "code",
   "execution_count": 1,
   "metadata": {},
   "outputs": [],
   "source": [
    "import random"
   ]
  },
  {
   "cell_type": "code",
   "execution_count": 2,
   "metadata": {},
   "outputs": [
    {
     "name": "stdout",
     "output_type": "stream",
     "text": [
      "Rule Book of the Rock paper scissor game: \n",
      "Rock vs paper -> paper wins!! \n",
      "Rock vs scissor -> Rock wins!! \n",
      "paper vs scissor -> scissor wins!! \n",
      "The Game is of 3 points ,who gets the highest marks wins the match\n"
     ]
    }
   ],
   "source": [
    "print(\"Rule Book of the Rock paper scissor game: \\n\"\n",
    "                                +\"Rock vs paper -> paper wins!! \\n\"\n",
    "                                + \"Rock vs scissor -> Rock wins!! \\n\"\n",
    "                                +\"paper vs scissor -> scissor wins!! \\n\"\n",
    "                                +\"The Game is of 3 points ,who gets the highest marks wins the match\")"
   ]
  },
  {
   "cell_type": "code",
   "execution_count": 4,
   "metadata": {},
   "outputs": [
    {
     "name": "stdout",
     "output_type": "stream",
     "text": [
      "1.Rock \n",
      "2.Scissors \n",
      "3.Paper \n",
      "3\n",
      "You got one point\n",
      "1.Rock \n",
      "2.Scissors \n",
      "3.Paper \n",
      "1\n",
      "You got one point\n",
      "1.Rock \n",
      "2.Scissors \n",
      "3.Paper \n",
      "2\n",
      "You got one point\n",
      "You won!!\n",
      "Do you want to have one more match? Enter 1 if yes1\n",
      "1.Rock \n",
      "2.Scissors \n",
      "3.Paper \n",
      "2\n",
      "You got one point\n",
      "1.Rock \n",
      "2.Scissors \n",
      "3.Paper \n",
      "1\n",
      "System got one point\n",
      "1.Rock \n",
      "2.Scissors \n",
      "3.Paper \n",
      "3\n",
      "System got one point\n",
      "You lose!! Better luck next time!!\n",
      "Do you want to have one more match? Enter 1 if yes0\n"
     ]
    }
   ],
   "source": [
    "flag=1\n",
    "while(flag==1):\n",
    "    ctr=0\n",
    "    while(ctr<3):\n",
    "        uctr=0\n",
    "        sctr=0\n",
    "        ch=int(input(\"1.Rock \\n\"+\"2.Scissors \\n\"+\"3.Paper \\n\")) ##User option\n",
    "        x=random.randint(1,3)   ##System option\n",
    "        if(ch==x):\n",
    "            print(\"It is a draw!!\")\n",
    "        elif(ch==1):\n",
    "            if(x==2):\n",
    "                print(\"You got one point\")\n",
    "                uctr+=1\n",
    "            else:\n",
    "                print(\"System got one point\")\n",
    "                sctr+=1\n",
    "        elif(ch==2):\n",
    "            if(x==1):\n",
    "                print(\"System got one point\")\n",
    "                sctr+=1\n",
    "            else:\n",
    "                print(\"You got one point\")\n",
    "                uctr+=1\n",
    "        elif(ch==3):\n",
    "            if(x==1):\n",
    "                print(\"You got one point\")\n",
    "                uctr+=1\n",
    "            else:\n",
    "                print(\"System got one point\")\n",
    "                sctr+=1\n",
    "        else:\n",
    "            print(\"wrong entry\")\n",
    "            break\n",
    "        ctr+=1\n",
    "    if(sctr>uctr):\n",
    "        print(\"You lose!! Better luck next time!!\")\n",
    "    elif(sctr<uctr):\n",
    "        print(\"You won!!\")\n",
    "    elif(uctr==sctr):\n",
    "        print(\"It is a draw\")\n",
    "    flag=int(input(\"Do you want to have one more match? Enter 1 if yes\"))\n",
    "    "
   ]
  },
  {
   "cell_type": "code",
   "execution_count": null,
   "metadata": {},
   "outputs": [],
   "source": []
  }
 ],
 "metadata": {
  "kernelspec": {
   "display_name": "Python 3",
   "language": "python",
   "name": "python3"
  },
  "language_info": {
   "codemirror_mode": {
    "name": "ipython",
    "version": 3
   },
   "file_extension": ".py",
   "mimetype": "text/x-python",
   "name": "python",
   "nbconvert_exporter": "python",
   "pygments_lexer": "ipython3",
   "version": "3.7.6"
  }
 },
 "nbformat": 4,
 "nbformat_minor": 4
}
