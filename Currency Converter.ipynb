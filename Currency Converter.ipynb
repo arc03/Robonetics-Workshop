{
 "cells": [
  {
   "cell_type": "code",
   "execution_count": 1,
   "metadata": {},
   "outputs": [
    {
     "name": "stdout",
     "output_type": "stream",
     "text": [
      "\t\t\tCURRENCY CONVERTER\n",
      "Here you can convert from INR to USD to CNY to JPY to CAD or Visa-Versa\n"
     ]
    }
   ],
   "source": [
    "print(\"\\t\\t\\tCURRENCY CONVERTER\\n\"+\"Here you can convert from INR to USD to CNY to JPY to CAD or Visa-Versa\")"
   ]
  },
  {
   "cell_type": "code",
   "execution_count": 2,
   "metadata": {},
   "outputs": [
    {
     "name": "stdout",
     "output_type": "stream",
     "text": [
      "Enter Currency you have JPY\n",
      "Enter Money you want to convert 34\n",
      "Enter Currency you want INR\n"
     ]
    }
   ],
   "source": [
    "curr=input(\"Enter Currency you have \")\n",
    "money=float(input(\"Enter Money you want to convert \"))\n",
    "tocurr=input(\"Enter Currency you want \")"
   ]
  },
  {
   "cell_type": "code",
   "execution_count": 3,
   "metadata": {},
   "outputs": [
    {
     "name": "stdout",
     "output_type": "stream",
     "text": [
      "22.44 INR\n"
     ]
    }
   ],
   "source": [
    "if(curr=='INR'):\n",
    "    if(tocurr=='USD'):\n",
    "        money*=0.013\n",
    "    elif(tocurr=='CNY'):\n",
    "        money*=0.085\n",
    "    elif(tocurr=='JPY'):\n",
    "        money*=1.50\n",
    "    elif(tocurr=='CAD'):\n",
    "        money*=0.017\n",
    "elif(curr=='USD'):\n",
    "    if(tocurr=='INR'):\n",
    "        money*=75.52\n",
    "    elif(tocurr=='CNY'):\n",
    "        money*=6.65\n",
    "    elif(tocurr=='JPY'):\n",
    "        money*=0.86\n",
    "    elif(tocurr=='CAD'):\n",
    "        money*=1.24   \n",
    "elif(curr=='CNY'):\n",
    "    if(tocurr=='INR'):\n",
    "        money*=11.61\n",
    "    elif(tocurr=='USD'):\n",
    "        money*=0.155\n",
    "    elif(tocurr=='JPY'):\n",
    "        money*=17.41\n",
    "    elif(tocurr=='CAD'):\n",
    "        money*=0.19   \n",
    "elif(curr=='JPY'):\n",
    "    if(tocurr=='INR'):\n",
    "        money*=0.66\n",
    "    elif(tocurr=='USD'):\n",
    "        money*=0.00891\n",
    "    elif(tocurr=='CNY'):\n",
    "        money*=0.057\n",
    "    elif(tocurr=='CAD'):\n",
    "        money*=0.011\n",
    "elif(curr=='CAD'):\n",
    "    if(tocurr=='INR'):\n",
    "        money*=59.98\n",
    "    elif(tocurr=='USD'):\n",
    "        money*=0.801\n",
    "    elif(tocurr=='JPY'):\n",
    "        money*=89.93\n",
    "    elif(tocurr=='CNY'):\n",
    "        money*=5.16   \n",
    "print(money,tocurr)"
   ]
  },
  {
   "cell_type": "code",
   "execution_count": null,
   "metadata": {},
   "outputs": [],
   "source": []
  }
 ],
 "metadata": {
  "kernelspec": {
   "display_name": "Python 3",
   "language": "python",
   "name": "python3"
  },
  "language_info": {
   "codemirror_mode": {
    "name": "ipython",
    "version": 3
   },
   "file_extension": ".py",
   "mimetype": "text/x-python",
   "name": "python",
   "nbconvert_exporter": "python",
   "pygments_lexer": "ipython3",
   "version": "3.7.6"
  }
 },
 "nbformat": 4,
 "nbformat_minor": 4
}
