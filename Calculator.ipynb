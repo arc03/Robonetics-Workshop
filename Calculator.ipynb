{
 "cells": [
  {
   "cell_type": "code",
   "execution_count": 1,
   "metadata": {},
   "outputs": [
    {
     "name": "stdout",
     "output_type": "stream",
     "text": [
      "Enter a 8\n",
      "Enter b 2\n",
      "1.Add\n",
      "2.Subtract\n",
      "3.Multiply\n",
      "4.Divide\n",
      "Enter your choice 1\n",
      "10\n",
      "Enter 1 to continue 1\n",
      "1.Add\n",
      "2.Subtract\n",
      "3.Multiply\n",
      "4.Divide\n",
      "Enter your choice 2\n",
      "6\n",
      "Enter 1 to continue 1\n",
      "1.Add\n",
      "2.Subtract\n",
      "3.Multiply\n",
      "4.Divide\n",
      "Enter your choice 3\n",
      "16\n",
      "Enter 1 to continue 1\n",
      "1.Add\n",
      "2.Subtract\n",
      "3.Multiply\n",
      "4.Divide\n",
      "Enter your choice 4\n",
      "4.0\n",
      "Enter 1 to continue 0\n"
     ]
    }
   ],
   "source": [
    "a=int(input(\"Enter a \"))\n",
    "b=int(input(\"Enter b \"))\n",
    "\n",
    "flag=1\n",
    "while flag==1:\n",
    "    print(\"1.Add\")\n",
    "    print(\"2.Subtract\")\n",
    "    print(\"3.Multiply\")\n",
    "    print(\"4.Divide\")\n",
    "    ch=int(input(\"Enter your choice \"))\n",
    "    if(ch==1):\n",
    "        print(a+b)\n",
    "    elif(ch==2):\n",
    "        print(a-b)\n",
    "    elif(ch==3):\n",
    "        print(a*b)\n",
    "    elif(ch==4):\n",
    "        print(a/b)\n",
    "    else:\n",
    "        print(\"Invalid entry \")\n",
    "    flag=int(input(\"Enter 1 to continue \"))\n"
   ]
  },
  {
   "cell_type": "code",
   "execution_count": null,
   "metadata": {},
   "outputs": [],
   "source": []
  }
 ],
 "metadata": {
  "kernelspec": {
   "display_name": "Python 3",
   "language": "python",
   "name": "python3"
  },
  "language_info": {
   "codemirror_mode": {
    "name": "ipython",
    "version": 3
   },
   "file_extension": ".py",
   "mimetype": "text/x-python",
   "name": "python",
   "nbconvert_exporter": "python",
   "pygments_lexer": "ipython3",
   "version": "3.7.6"
  }
 },
 "nbformat": 4,
 "nbformat_minor": 4
}
