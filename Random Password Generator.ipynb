{
 "cells": [
  {
   "cell_type": "code",
   "execution_count": 1,
   "metadata": {},
   "outputs": [],
   "source": [
    "import random"
   ]
  },
  {
   "cell_type": "code",
   "execution_count": 2,
   "metadata": {},
   "outputs": [
    {
     "name": "stdout",
     "output_type": "stream",
     "text": [
      "Random Password Generated:- m4V#V$m!%3\n"
     ]
    }
   ],
   "source": [
    "alpha=['a','B','c','D','e','F','g','H','i','J','k','L','m','N','o','P','q','R','s','T','u','W','x','Y','z','V']\n",
    "sym=['@','*','%','$','#','!']\n",
    "digit=['1','2','3','4','5','6','7','8','9']\n",
    "alpha1=random.choice(alpha)\n",
    "alpha2=random.choice(alpha)\n",
    "alpha3=random.choice(alpha)\n",
    "alpha4=random.choice(alpha)\n",
    "sym1=random.choice(sym)\n",
    "sym2=random.choice(sym)\n",
    "sym3=random.choice(sym)\n",
    "sym4=random.choice(sym)\n",
    "digit1=random.choice(digit)\n",
    "digit2=random.choice(digit)\n",
    "password=alpha1+digit2+alpha2+sym1+alpha3+sym4+alpha4+sym2+sym3+digit1\n",
    "print(\"Random Password Generated:-\",password)"
   ]
  },
  {
   "cell_type": "code",
   "execution_count": null,
   "metadata": {},
   "outputs": [],
   "source": []
  }
 ],
 "metadata": {
  "kernelspec": {
   "display_name": "Python 3",
   "language": "python",
   "name": "python3"
  },
  "language_info": {
   "codemirror_mode": {
    "name": "ipython",
    "version": 3
   },
   "file_extension": ".py",
   "mimetype": "text/x-python",
   "name": "python",
   "nbconvert_exporter": "python",
   "pygments_lexer": "ipython3",
   "version": "3.7.6"
  }
 },
 "nbformat": 4,
 "nbformat_minor": 4
}
